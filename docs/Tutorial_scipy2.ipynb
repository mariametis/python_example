{
 "cells": [
  {
   "cell_type": "markdown",
   "id": "2b3c74a0",
   "metadata": {},
   "source": [
    "# SCIPY\n",
    "\n",
    "This notebook shows how to use curve_fit a task of scipy.\n",
    "\n",
    "\n"
   ]
  },
  {
   "cell_type": "markdown",
   "id": "815ba1df",
   "metadata": {},
   "source": [
    "#scipy"
   ]
  },
  {
   "cell_type": "code",
   "execution_count": 2,
   "id": "9a5bf16f",
   "metadata": {},
   "outputs": [],
   "source": [
    "# Hide warnings\n",
    "import warnings\n",
    "warnings.catch_warnings()\n",
    "warnings.simplefilter(\"ignore\")\n",
    "\n",
    "import pandas as pd\n",
    "import numpy as np\n",
    "import matplotlib\n",
    "import matplotlib.pyplot as plt\n",
    "import matplotlib.lines\n",
    "from matplotlib.lines import Line2D  \n",
    "from astropy.io import fits\n",
    "from astropy.table import Table\n",
    "import scipy\n",
    "from scipy import optimize as op\n",
    "from scipy.optimize import curve_fit\n",
    "from mpl_toolkits.mplot3d import axes3d\n",
    "from numpy import arange\n",
    "\n",
    "# import DPACP-93 utilities\n",
    "from gspfig import plot_filter_comparison, FilterSpec, medsigline \n",
    "from gspfig import gspstyle\n",
    "#\n",
    "import matplotlib.patches as mpatches\n",
    "from matplotlib.legend_handler import HandlerPatch\n"
   ]
  },
  {
   "cell_type": "markdown",
   "id": "d0ad0830",
   "metadata": {},
   "source": [
    "For this tutorial we will use some SDSS data provided by Michele:"
   ]
  },
  {
   "cell_type": "code",
   "execution_count": 3,
   "id": "fcfd67e6",
   "metadata": {},
   "outputs": [],
   "source": [
    "ff1 ='Y6A1_finsel_DR3_wXPSP.fits'"
   ]
  },
  {
   "cell_type": "markdown",
   "id": "94c656b3",
   "metadata": {},
   "source": [
    "`ff1` contains the standardised synthetic photometry whereas `ff2` contains the non-standardised synthetic photometry. We will now load the two files using Astropy and convert them into [Pandas](https://pandas.pydata.org) dataframes:"
   ]
  },
  {
   "cell_type": "code",
   "execution_count": 4,
   "id": "b4c34c20",
   "metadata": {},
   "outputs": [
    {
     "name": "stdout",
     "output_type": "stream",
     "text": [
      "CPU times: user 1.14 s, sys: 494 ms, total: 1.63 s\n",
      "Wall time: 1.79 s\n"
     ]
    },
    {
     "data": {
      "text/plain": [
       "Index(['FGCM_ID', 'RA', 'DEC', 'FLAG', 'MAG_STD_G', 'MAG_STD_R', 'MAG_STD_I',\n",
       "       'MAG_STD_Z', 'MAG_STD_Y', 'MAGERR_STD_G', 'MAGERR_STD_R',\n",
       "       'MAGERR_STD_I', 'MAGERR_STD_Z', 'MAGERR_STD_Y', 'NGOOD_G', 'NGOOD_R',\n",
       "       'NGOOD_I', 'NGOOD_Z', 'NGOOD_Y', 'source_id_1', 'RAdeg', 'DEdeg', 'Plx',\n",
       "       'e_Plx', 'pmRA', 'e_pmRA', 'pmDE', 'e_pmDE', 'RUWE', 'G', 'e_G', 'BP',\n",
       "       'e_BP', 'RP', 'e_RP', 'NBPcont', 'NBPblend', 'NRPcont', 'NRPblend',\n",
       "       'AG', 'E(BP-RP)', 'phot_bp_rp_excess_factor', 'phot_variable_flag',\n",
       "       'in_qso_candidates', 'in_galaxy_candidates', 'non_single_star',\n",
       "       'C_star', 'Decam_mag_g', 'Decam_mag_r', 'Decam_mag_i', 'Decam_mag_z',\n",
       "       'Decam_mag_Y', 'Decam_flux_g', 'Decam_flux_r', 'Decam_flux_i',\n",
       "       'Decam_flux_z', 'Decam_flux_Y', 'Decam_flux_error_g',\n",
       "       'Decam_flux_error_r', 'Decam_flux_error_i', 'Decam_flux_error_z',\n",
       "       'Decam_flux_error_Y'],\n",
       "      dtype='object')"
      ]
     },
     "execution_count": 4,
     "metadata": {},
     "output_type": "execute_result"
    }
   ],
   "source": [
    "%%time\n",
    "df1 = Table.read(ff1).to_pandas()\n",
    "df1.columns"
   ]
  },
  {
   "cell_type": "markdown",
   "id": "f7cbc79f",
   "metadata": {},
   "source": [
    "We want to have all the information in a single dataframe: this can be easily achieved by joining the two dataframes by the `source_id` column. Since both files have several columns in common, we remove them from the second dataframe and then rename the unique columns to avoid confusion:"
   ]
  },
  {
   "cell_type": "code",
   "execution_count": 5,
   "id": "0e4fa808",
   "metadata": {},
   "outputs": [],
   "source": [
    "df1.rename(columns={\n",
    "    'MAG_STD_G': 'g_ref',\n",
    "    'MAG_STD_R': 'r_ref',\n",
    "    'MAG_STD_I': 'i_ref',\n",
    "    'MAG_STD_Z': 'z_ref',\n",
    "    'MAG_STD_Y': 'y_ref',\n",
    "    'Decam_mag_g': 'g_std',\n",
    "    'Decam_mag_r': 'r_std',\n",
    "    'Decam_mag_i': 'i_std',\n",
    "    'Decam_mag_z': 'z_std',\n",
    "    'Decam_mag_Y': 'y_std',\n",
    "}, inplace=True)\n",
    "\n",
    "\n",
    "dfms = df1"
   ]
  },
  {
   "cell_type": "markdown",
   "id": "9e0232e3",
   "metadata": {},
   "source": [
    "The `dfm` dataframe now contains both the standardised and non-standardised photometry:"
   ]
  },
  {
   "cell_type": "code",
   "execution_count": 6,
   "id": "f63470d6",
   "metadata": {},
   "outputs": [
    {
     "data": {
      "text/plain": [
       "Index(['FGCM_ID', 'RA', 'DEC', 'FLAG', 'g_ref', 'r_ref', 'i_ref', 'z_ref',\n",
       "       'y_ref', 'MAGERR_STD_G', 'MAGERR_STD_R', 'MAGERR_STD_I', 'MAGERR_STD_Z',\n",
       "       'MAGERR_STD_Y', 'NGOOD_G', 'NGOOD_R', 'NGOOD_I', 'NGOOD_Z', 'NGOOD_Y',\n",
       "       'source_id_1', 'RAdeg', 'DEdeg', 'Plx', 'e_Plx', 'pmRA', 'e_pmRA',\n",
       "       'pmDE', 'e_pmDE', 'RUWE', 'G', 'e_G', 'BP', 'e_BP', 'RP', 'e_RP',\n",
       "       'NBPcont', 'NBPblend', 'NRPcont', 'NRPblend', 'AG', 'E(BP-RP)',\n",
       "       'phot_bp_rp_excess_factor', 'phot_variable_flag', 'in_qso_candidates',\n",
       "       'in_galaxy_candidates', 'non_single_star', 'C_star', 'g_std', 'r_std',\n",
       "       'i_std', 'z_std', 'y_std', 'Decam_flux_g', 'Decam_flux_r',\n",
       "       'Decam_flux_i', 'Decam_flux_z', 'Decam_flux_Y', 'Decam_flux_error_g',\n",
       "       'Decam_flux_error_r', 'Decam_flux_error_i', 'Decam_flux_error_z',\n",
       "       'Decam_flux_error_Y'],\n",
       "      dtype='object')"
      ]
     },
     "execution_count": 6,
     "metadata": {},
     "output_type": "execute_result"
    }
   ],
   "source": [
    "dfms.columns"
   ]
  },
  {
   "cell_type": "code",
   "execution_count": 7,
   "id": "3497836c",
   "metadata": {
    "scrolled": true
   },
   "outputs": [
    {
     "name": "stdout",
     "output_type": "stream",
     "text": [
      "CPU times: user 18.6 ms, sys: 1.46 ms, total: 20.1 ms\n",
      "Wall time: 17.5 ms\n"
     ]
    }
   ],
   "source": [
    "%%time\n",
    "filts = ['g', 'r', 'i', 'z', 'y']\n",
    "for fname in filts:\n",
    "    dfms[f'delta{fname}_std'] = dfms[f'{fname}_ref'] - dfms[f'{fname}_std']"
   ]
  },
  {
   "cell_type": "code",
   "execution_count": 8,
   "id": "24689682",
   "metadata": {},
   "outputs": [
    {
     "name": "stdout",
     "output_type": "stream",
     "text": [
      "Full dataset: 755821, subset: 754142\n"
     ]
    }
   ],
   "source": [
    "dfsel = dfms[(dfms['G'] <= 17.65) & (dfms['BP'] <99) & (dfms['RP']  < 99)]\n",
    "print(f'Full dataset: {len(dfms)}, subset: {len(dfsel)}')\n",
    "dfsel['bp_rp']=dfsel['BP']-dfsel['RP']\n",
    "dfsel.columns\n",
    "dfms=dfsel\n"
   ]
  },
  {
   "cell_type": "code",
   "execution_count": 9,
   "id": "b530de52",
   "metadata": {},
   "outputs": [],
   "source": [
    "# define the true objective function\n",
    "def objective(x, a,  f):\n",
    " return (a * x)    + f\n",
    "\n",
    "def objective4(x, a, b, c,d, f):\n",
    " return (a * x) + (b * x**2) + (c * x**3)  + + (c * x**4)+f\n",
    "\n",
    "def residuals(x, a, f, y):     #for least square\n",
    "    e=x*0+1.\n",
    "    return (y-objective(x, a,  f)) / e\n",
    "\n",
    "def residuals4(x, a, b, c,d, f, y):     #for least square\n",
    "    e=x*0+1.\n",
    "    return (y-objective4(x, a, b, c,d, f)) / e\n",
    "\n",
    "def chisq(x, a,   y):\n",
    "    return (residuals(x, a, y)**2).sum()\n",
    "\n",
    "def chisq4(x, a, b, c, d, f,y):\n",
    "    return (residuals4(x, a, b, c,d, f,y)**2).sum()\n",
    "\n",
    "def get_fit(xi2,zi2,x_line):\n",
    "  popt, pcov = curve_fit(objective, xi2, zi2) \n",
    "  a,    f = popt\n",
    "  y_line = objective(x_line, a,    f)\n",
    "  yf=objective(xi2, a,   f)\n",
    "  #e=xi2*0+1.\n",
    "  resid=residuals(xi2, a,    f,zi2)\n",
    "  stand=resid.std()\n",
    "  #aa=yf-zi2\n",
    "  #stand2=aa.std()\n",
    "  #chi2=chisq(xi2, a, b, c,  f,zi2)\n",
    "  #print(popt)\n",
    "  #print(np.sqrt(np.diag(pcov)))\n",
    "  return { 'Yfit': yf, 'y_line': y_line, 'std':stand}\n",
    "\n",
    "def get_fit4(xi2,zi2,x_line):\n",
    "  popt, pcov = curve_fit(objective4, xi2, zi2) \n",
    "  a, b, c, d, f = popt\n",
    "  y_line = objective4(x_line, a, b, c,d,  f)\n",
    "  yf=objective4(xi2, a, b, c,d,  f)\n",
    "  resid=residuals(xi2, a, b, c,  f,zi2)\n",
    "  stand=resid.std()\n",
    "  return { 'Yfit': yf, 'y_line': y_line, 'std':stand}\n",
    "\n",
    "def get_plot(xi2,zi2,yf,x_line, y_line,xtitle,ytitle):\n",
    "  fig = plt.figure() \n",
    "  ax = fig.add_subplot(111) \n",
    "  ax.scatter(xi2, yf, color='cyan') \n",
    "  ax.scatter(xi2, zi2, color='pink') \n",
    "  ax.set_xlabel(xtitle) \n",
    "  ax.set_ylabel(ytitle) \n",
    "  ax.scatter(x_line, y_line, color='r') \n",
    "  plt.show()\n",
    "\n"
   ]
  },
  {
   "cell_type": "code",
   "execution_count": 10,
   "id": "10639bf7",
   "metadata": {},
   "outputs": [
    {
     "data": {
      "image/png": "[encoded data removed]",
      "text/plain": [
       "<Figure size 640x480 with 1 Axes>"
      ]
     },
     "metadata": {},
     "output_type": "display_data"
    }
   ],
   "source": [
    "dfsel2 = dfsel[(dfsel['i_ref']-dfsel['i_std'] <= 0.4)]\n",
    "\n",
    "xi2=dfsel2['i_ref']\n",
    "zi2=dfsel2['i_ref']-dfsel2['i_std']\n",
    "xi2=np.array(xi2)\n",
    "zi2=np.array(zi2)\n",
    "fig = plt.figure() \n",
    "ax = fig.add_subplot(111) \n",
    "ax.scatter(xi2, zi2, color='pink') \n",
    "ax.set_xlabel('i_std') \n",
    "ax.set_ylabel('i_ref-i_std') \n",
    "plt.show()\n"
   ]
  },
  {
   "cell_type": "code",
   "execution_count": 13,
   "id": "4195d474",
   "metadata": {},
   "outputs": [
    {
     "data": {
      "image/png": "[encoded data removed]",
      "text/plain": [
       "<Figure size 640x480 with 1 Axes>"
      ]
     },
     "metadata": {},
     "output_type": "display_data"
    }
   ],
   "source": [
    "def func1(x, a, b, c):\n",
    "    return a*x**2+b*x+c\n",
    "\n",
    "def func2(x, a, b, c):\n",
    "    return a*x**3+b*x+c\n",
    "\n",
    "def func3(x, a, b, c):\n",
    "    return a*x**3+b*x**2+c\n",
    "\n",
    "def func4(x, a, b, c):\n",
    "    return a*exp(b*x)+c \n",
    "\n",
    "params, covs = curve_fit(func1, xi2, zi2)\n",
    "a, b, c = params[0], params[1], params[2]\n",
    "yfit1 = a*xi2**2+b*xi2+c\n",
    "x_line = arange(13., 19., 0.01)\n",
    "y_line=a*x_line**2+b*x_line+c\n",
    "\n",
    "plt.plot(xi2, zi2, 'bo', label=\"y-original\")\n",
    "plt.plot(x_line, y_line, label=\"y=a*x^2+b*x+c\")\n",
    "plt.xlabel('x')\n",
    "plt.ylabel('y')\n",
    "plt.legend(loc='best', fancybox=True, shadow=True)\n",
    "plt.grid(True)\n",
    "plt.show() \n",
    "\n",
    "\n",
    "\n"
   ]
  },
  {
   "cell_type": "code",
   "execution_count": null,
   "id": "4a1bcc45",
   "metadata": {},
   "outputs": [],
   "source": []
  }
 ],
 "metadata": {
  "kernelspec": {
   "display_name": "Python 3 (ipykernel)",
   "language": "python",
   "name": "python3"
  },
  "language_info": {
   "codemirror_mode": {
    "name": "ipython",
    "version": 3
   },
   "file_extension": ".py",
   "mimetype": "text/x-python",
   "name": "python",
   "nbconvert_exporter": "python",
   "pygments_lexer": "ipython3",
   "version": "3.9.16"
  },
  "varInspector": {
   "cols": {
    "lenName": 16,
    "lenType": 16,
    "lenVar": 40
   },
   "kernels_config": {
    "python": {
     "delete_cmd_postfix": "",
     "delete_cmd_prefix": "del ",
     "library": "var_list.py",
     "varRefreshCmd": "print(var_dic_list())"
    },
    "r": {
     "delete_cmd_postfix": ") ",
     "delete_cmd_prefix": "rm(",
     "library": "var_list.r",
     "varRefreshCmd": "cat(var_dic_list()) "
    }
   },
   "types_to_exclude": [
    "module",
    "function",
    "builtin_function_or_method",
    "instance",
    "_Feature"
   ],
   "window_display": false
  }
 },
 "nbformat": 4,
 "nbformat_minor": 5
}
